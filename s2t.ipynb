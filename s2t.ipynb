{
 "cells": [
  {
   "cell_type": "code",
   "execution_count": 2,
   "id": "6ecbbb9c",
   "metadata": {},
   "outputs": [
    {
     "name": "stdout",
     "output_type": "stream",
     "text": [
      "Please say something\n",
      "Recognizing Now .... \n",
      "You have said \n",
      "hello this is Shreya\n",
      "Audio Recorded Successfully \n",
      " \n"
     ]
    }
   ],
   "source": [
    "import speech_recognition as sr\n",
    " \n",
    " \n",
    "def main():\n",
    " \n",
    "    r = sr.Recognizer()\n",
    " \n",
    "    with sr.Microphone() as source:\n",
    "        r.adjust_for_ambient_noise(source)\n",
    " \n",
    "        print(\"Please say something\")\n",
    " \n",
    "        audio = r.listen(source)\n",
    " \n",
    "        print(\"Recognizing Now .... \")\n",
    " \n",
    " \n",
    "        # recognize speech using google\n",
    " \n",
    "        try:\n",
    "            print(\"You have said \\n\" + r.recognize_google(audio))\n",
    "            print(\"Audio Recorded Successfully \\n \")\n",
    " \n",
    " \n",
    "        except Exception as e:\n",
    "            print(\"Error :  \" + str(e))\n",
    " \n",
    " \n",
    " \n",
    " \n",
    "        # write audio\n",
    "        with open(\"recorded.wav\", \"wb\") as f:\n",
    "            f.write(audio.get_wav_data())\n",
    " \n",
    " \n",
    "if __name__ == \"__main__\":\n",
    "    main()"
   ]
  },
  {
   "cell_type": "code",
   "execution_count": null,
   "id": "fcaed240",
   "metadata": {},
   "outputs": [],
   "source": []
  }
 ],
 "metadata": {
  "kernelspec": {
   "display_name": "Python 3 (ipykernel)",
   "language": "python",
   "name": "python3"
  },
  "language_info": {
   "codemirror_mode": {
    "name": "ipython",
    "version": 3
   },
   "file_extension": ".py",
   "mimetype": "text/x-python",
   "name": "python",
   "nbconvert_exporter": "python",
   "pygments_lexer": "ipython3",
   "version": "3.10.7"
  }
 },
 "nbformat": 4,
 "nbformat_minor": 5
}
